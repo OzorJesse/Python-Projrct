{
 "cells": [
  {
   "cell_type": "code",
   "execution_count": 1,
   "id": "2869064d",
   "metadata": {},
   "outputs": [],
   "source": [
    "import streamlit as st\n",
    "import numpy as np\n",
    "import pandas as pd \n",
    "import matplotlib.pyplot as plt \n",
    "import seaborn as sns"
   ]
  },
  {
   "cell_type": "code",
   "execution_count": 2,
   "id": "1ef6fb9f",
   "metadata": {},
   "outputs": [],
   "source": [
    "def load_data():\n",
    "    file = 'C:/Users/HP/updated python project/env/aircrahesFullDataUpdated_2024.csv'\n",
    "    df = pd.read_csv(file)\n",
    "\n",
    "    return df"
   ]
  },
  {
   "cell_type": "code",
   "execution_count": 3,
   "id": "6b5a641c",
   "metadata": {},
   "outputs": [],
   "source": [
    "df = load_data()\n"
   ]
  },
  {
   "cell_type": "code",
   "execution_count": 4,
   "id": "3883a050",
   "metadata": {},
   "outputs": [
    {
     "data": {
      "text/html": [
       "<div>\n",
       "<style scoped>\n",
       "    .dataframe tbody tr th:only-of-type {\n",
       "        vertical-align: middle;\n",
       "    }\n",
       "\n",
       "    .dataframe tbody tr th {\n",
       "        vertical-align: top;\n",
       "    }\n",
       "\n",
       "    .dataframe thead th {\n",
       "        text-align: right;\n",
       "    }\n",
       "</style>\n",
       "<table border=\"1\" class=\"dataframe\">\n",
       "  <thead>\n",
       "    <tr style=\"text-align: right;\">\n",
       "      <th></th>\n",
       "      <th>Year</th>\n",
       "      <th>Quarter</th>\n",
       "      <th>Month</th>\n",
       "      <th>Day</th>\n",
       "      <th>Country/Region</th>\n",
       "      <th>Aircraft Manufacturer</th>\n",
       "      <th>Aircraft</th>\n",
       "      <th>Location</th>\n",
       "      <th>Operator</th>\n",
       "      <th>Ground</th>\n",
       "      <th>Fatalities (air)</th>\n",
       "      <th>Aboard</th>\n",
       "    </tr>\n",
       "  </thead>\n",
       "  <tbody>\n",
       "    <tr>\n",
       "      <th>0</th>\n",
       "      <td>1970</td>\n",
       "      <td>Qtr 2</td>\n",
       "      <td>April</td>\n",
       "      <td>28</td>\n",
       "      <td>NaN</td>\n",
       "      <td>de Havilland Canada</td>\n",
       "      <td>de Havilland Canada DHC 6 Twin Otter 100VH</td>\n",
       "      <td>Kainatu</td>\n",
       "      <td>Airlines Australia GuineaTrans New</td>\n",
       "      <td>0</td>\n",
       "      <td>8</td>\n",
       "      <td>11</td>\n",
       "    </tr>\n",
       "    <tr>\n",
       "      <th>1</th>\n",
       "      <td>1952</td>\n",
       "      <td>Qtr 2</td>\n",
       "      <td>April</td>\n",
       "      <td>30</td>\n",
       "      <td>NaN</td>\n",
       "      <td>Douglas</td>\n",
       "      <td>Douglas DC 3VT</td>\n",
       "      <td>Delhi</td>\n",
       "      <td>Airways IndiaDeccan</td>\n",
       "      <td>0</td>\n",
       "      <td>9</td>\n",
       "      <td>9</td>\n",
       "    </tr>\n",
       "    <tr>\n",
       "      <th>2</th>\n",
       "      <td>1973</td>\n",
       "      <td>Qtr 2</td>\n",
       "      <td>April</td>\n",
       "      <td>10</td>\n",
       "      <td>NaN</td>\n",
       "      <td>Vickers Vanguard</td>\n",
       "      <td>Vickers Vanguard 952G AXOP</td>\n",
       "      <td>Near Basel</td>\n",
       "      <td>(UK) Airlines International SwitzerlandInvicta</td>\n",
       "      <td>0</td>\n",
       "      <td>108</td>\n",
       "      <td>145</td>\n",
       "    </tr>\n",
       "    <tr>\n",
       "      <th>3</th>\n",
       "      <td>2000</td>\n",
       "      <td>Qtr 2</td>\n",
       "      <td>April</td>\n",
       "      <td>19</td>\n",
       "      <td>'-</td>\n",
       "      <td>Antonov</td>\n",
       "      <td>Antonov AN 8TL</td>\n",
       "      <td>Pepa  -</td>\n",
       "      <td>Airlines Centrafricain</td>\n",
       "      <td>0</td>\n",
       "      <td>24</td>\n",
       "      <td>24</td>\n",
       "    </tr>\n",
       "    <tr>\n",
       "      <th>4</th>\n",
       "      <td>1946</td>\n",
       "      <td>Qtr 2</td>\n",
       "      <td>April</td>\n",
       "      <td>30</td>\n",
       "      <td>'-</td>\n",
       "      <td>Douglas</td>\n",
       "      <td>Douglas C 47A FZ559</td>\n",
       "      <td>Pindi-Khut  -</td>\n",
       "      <td>Force Air Royal</td>\n",
       "      <td>0</td>\n",
       "      <td>12</td>\n",
       "      <td>12</td>\n",
       "    </tr>\n",
       "  </tbody>\n",
       "</table>\n",
       "</div>"
      ],
      "text/plain": [
       "   Year Quarter  Month  Day Country/Region Aircraft Manufacturer  \\\n",
       "0  1970   Qtr 2  April   28            NaN   de Havilland Canada   \n",
       "1  1952   Qtr 2  April   30            NaN               Douglas   \n",
       "2  1973   Qtr 2  April   10            NaN      Vickers Vanguard   \n",
       "3  2000   Qtr 2  April   19             '-               Antonov   \n",
       "4  1946   Qtr 2  April   30             '-               Douglas   \n",
       "\n",
       "                                     Aircraft       Location  \\\n",
       "0  de Havilland Canada DHC 6 Twin Otter 100VH        Kainatu   \n",
       "1                              Douglas DC 3VT          Delhi   \n",
       "2                  Vickers Vanguard 952G AXOP     Near Basel   \n",
       "3                              Antonov AN 8TL        Pepa  -   \n",
       "4                         Douglas C 47A FZ559  Pindi-Khut  -   \n",
       "\n",
       "                                         Operator  Ground  Fatalities (air)  \\\n",
       "0              Airlines Australia GuineaTrans New       0                 8   \n",
       "1                             Airways IndiaDeccan       0                 9   \n",
       "2  (UK) Airlines International SwitzerlandInvicta       0               108   \n",
       "3                          Airlines Centrafricain       0                24   \n",
       "4                                 Force Air Royal       0                12   \n",
       "\n",
       "   Aboard  \n",
       "0      11  \n",
       "1       9  \n",
       "2     145  \n",
       "3      24  \n",
       "4      12  "
      ]
     },
     "execution_count": 4,
     "metadata": {},
     "output_type": "execute_result"
    }
   ],
   "source": [
    "df.head()"
   ]
  },
  {
   "cell_type": "code",
   "execution_count": 5,
   "id": "eec10059",
   "metadata": {},
   "outputs": [
    {
     "name": "stdout",
     "output_type": "stream",
     "text": [
      "<class 'pandas.core.frame.DataFrame'>\n",
      "RangeIndex: 5035 entries, 0 to 5034\n",
      "Data columns (total 12 columns):\n",
      " #   Column                 Non-Null Count  Dtype \n",
      "---  ------                 --------------  ----- \n",
      " 0   Year                   5035 non-null   int64 \n",
      " 1   Quarter                5035 non-null   object\n",
      " 2   Month                  5035 non-null   object\n",
      " 3   Day                    5035 non-null   int64 \n",
      " 4   Country/Region         4805 non-null   object\n",
      " 5   Aircraft Manufacturer  5035 non-null   object\n",
      " 6   Aircraft               5035 non-null   object\n",
      " 7   Location               5035 non-null   object\n",
      " 8   Operator               4801 non-null   object\n",
      " 9   Ground                 5035 non-null   int64 \n",
      " 10  Fatalities (air)       5035 non-null   int64 \n",
      " 11  Aboard                 5035 non-null   int64 \n",
      "dtypes: int64(5), object(7)\n",
      "memory usage: 472.2+ KB\n"
     ]
    }
   ],
   "source": [
    "df.info()"
   ]
  },
  {
   "cell_type": "code",
   "execution_count": 6,
   "id": "6d7220ab",
   "metadata": {},
   "outputs": [],
   "source": [
    "# Step 1:  Handling Missing Values and Standardizing Entries\n",
    "\n",
    "# Replace '-' with NaN in 'Country/Region'\n",
    "df['Country/Region'] = df['Country/Region'].replace('-', pd.NA)\n",
    "\n",
    "# Fill missing values in 'Country/Region' and 'Operator' with 'Unknown'\n",
    "df['Country/Region'] = df['Country/Region'].fillna('Unknown')\n",
    "df['Operator'] = df['Operator'].fillna('Unknown')"
   ]
  },
  {
   "cell_type": "code",
   "execution_count": 7,
   "id": "ff8bc36c",
   "metadata": {},
   "outputs": [],
   "source": [
    "# Step 2: Trim and Clean Text Fields\n",
    "# Columns to clean: 'Country/Region', 'Aircraft', 'Location', 'Operator'\n",
    "df['Country/Region'] = df['Country/Region'].str.strip().str.title()\n",
    "df['Aircraft Manufacturer'] = df['Aircraft Manufacturer'].str.strip().str.title()\n",
    "df['Aircraft'] = df['Aircraft'].str.strip()\n",
    "df['Location'] = df['Location'].str.strip()\n",
    "df['Operator'] = df['Operator'].str.strip()"
   ]
  },
  {
   "cell_type": "code",
   "execution_count": 8,
   "id": "c0f61110",
   "metadata": {},
   "outputs": [],
   "source": [
    "# Step 3: Convert 'Quarter' and 'Month' to categorical data types\n",
    "df['Quarter'] = pd.Categorical(df['Quarter'], categories=['Qtr 1', 'Qtr 2', 'Qtr 3', 'Qtr 4'])\n",
    "df['Month'] = pd.Categorical(df['Month'], categories=[\n",
    "    'January', 'February', 'March', 'April', 'May', 'June',\n",
    "    'July', 'August', 'September', 'October', 'November', 'December'])"
   ]
  },
  {
   "cell_type": "code",
   "execution_count": 9,
   "id": "a0f56e77",
   "metadata": {},
   "outputs": [],
   "source": [
    "# Step 4: Handling Outliers\n",
    "# Calculate the interquartile range (IQR) for 'Ground' and 'Fatalities (air)' to detect outliers\n",
    "Q1_ground = df['Ground'].quantile(0.25)\n",
    "Q3_ground = df['Ground'].quantile(0.75)\n",
    "IQR_ground = Q3_ground - Q1_ground\n",
    "\n",
    "Q1_fatalities = df['Fatalities (air)'].quantile(0.25)\n",
    "Q3_fatalities = df['Fatalities (air)'].quantile(0.75)\n",
    "IQR_fatalities = Q3_fatalities - Q1_fatalities\n",
    "\n",
    "# Define outlier bounds\n",
    "lower_bound_ground = Q1_ground - 1.5 * IQR_ground\n",
    "upper_bound_ground = Q3_ground + 1.5 * IQR_ground\n",
    "\n",
    "lower_bound_fatalities = Q1_fatalities - 1.5 * IQR_fatalities\n",
    "upper_bound_fatalities = Q3_fatalities + 1.5 * IQR_fatalities\n",
    "\n",
    "# Cap outliers in 'Ground' and 'Fatalities (air)'\n",
    "df['Ground'] = df['Ground'].clip(lower=lower_bound_ground, upper=upper_bound_ground)\n",
    "df['Fatalities (air)'] = df['Fatalities (air)'].clip(lower=lower_bound_fatalities, upper=upper_bound_fatalities)"
   ]
  },
  {
   "cell_type": "code",
   "execution_count": 10,
   "id": "4f65d70d",
   "metadata": {},
   "outputs": [],
   "source": [
    "# Step 5: Check for Duplicates\n",
    "duplicate_rows = df.duplicated().sum()\n",
    "\n",
    "# If any duplicates are found, remove them\n",
    "df.drop_duplicates(inplace=True)"
   ]
  },
  {
   "cell_type": "code",
   "execution_count": 11,
   "id": "fc6369bc",
   "metadata": {},
   "outputs": [
    {
     "name": "stdout",
     "output_type": "stream",
     "text": [
      "<class 'pandas.core.frame.DataFrame'>\n",
      "RangeIndex: 5035 entries, 0 to 5034\n",
      "Data columns (total 12 columns):\n",
      " #   Column                 Non-Null Count  Dtype   \n",
      "---  ------                 --------------  -----   \n",
      " 0   Year                   5035 non-null   int64   \n",
      " 1   Quarter                5035 non-null   category\n",
      " 2   Month                  5035 non-null   category\n",
      " 3   Day                    5035 non-null   int64   \n",
      " 4   Country/Region         5035 non-null   object  \n",
      " 5   Aircraft Manufacturer  5035 non-null   object  \n",
      " 6   Aircraft               5035 non-null   object  \n",
      " 7   Location               5035 non-null   object  \n",
      " 8   Operator               5035 non-null   object  \n",
      " 9   Ground                 5035 non-null   int64   \n",
      " 10  Fatalities (air)       5035 non-null   float64 \n",
      " 11  Aboard                 5035 non-null   int64   \n",
      "dtypes: category(2), float64(1), int64(4), object(5)\n",
      "memory usage: 403.9+ KB\n"
     ]
    }
   ],
   "source": [
    "df.info()"
   ]
  },
  {
   "cell_type": "markdown",
   "id": "5c2be1c2",
   "metadata": {},
   "source": [
    "Research Questions Five Questions to Explore: Which aircraft manufacturers have the highest number of crashes?\n",
    "\n",
    "What is the trend of air crashes over the years?\n",
    "\n",
    "Which countries/regions had the highest number of fatalities?\n",
    "\n",
    "VWhich quarters of the year experience the most air crashes?\n",
    "\n",
    "How do air crashes relate to the number of people aboard?\n",
    "\n",
    "Findings :\n",
    "\n",
    "The trend of air crashes over the years shows fluctuations, with certain years experiencing higher numbers of crashes. This could be due to various factors such as changes in aviation regulations, technological advancements, or external events.\n",
    "\n",
    "Air crashes are distributed across all quarters, but there might be slight variations in the number of crashes per quarter. This could be influenced by seasonal factors or changes in flight frequency during different times of the year.\n",
    "\n",
    "Certain countries or regions have a higher number of air crash fatalities. This could be due to higher air traffic, less stringent safety regulations, or other regional factors.\n",
    "\n",
    "Some aircraft manufacturers have a higher number of crashes associated with their aircraft. This could be due to the popularity of certain aircraft models, their age, or specific design issues.\n",
    "\n",
    "Reccomendations:\n",
    "\n",
    "Implement stricter safety regulations and regular inspections, especially in regions with higher crash rates.\n",
    "\n",
    "Encourage airlines to upgrade or retire older aircraft models that are more prone to crashes.\n",
    "\n",
    "Utilize data analytics to identify patterns and potential risk factors associated with air crashes.\n",
    "\n",
    "Increase transparency in reporting air crash incidents and their causes. This can help build public trust and encourage more rigorous safety practices.\n",
    "\n",
    "Conduct public awareness campaigns to educate passengers about safety protocols and emergency procedures."
   ]
  },
  {
   "cell_type": "code",
   "execution_count": 12,
   "id": "cbbc564a",
   "metadata": {},
   "outputs": [
    {
     "name": "stderr",
     "output_type": "stream",
     "text": [
      "2025-01-04 03:03:04.163 WARNING streamlit.runtime.scriptrunner_utils.script_run_context: Thread 'MainThread': missing ScriptRunContext! This warning can be ignored when running in bare mode.\n",
      "2025-01-04 03:03:06.182 \n",
      "  \u001b[33m\u001b[1mWarning:\u001b[0m to view this Streamlit app on a browser, run it with the following\n",
      "  command:\n",
      "\n",
      "    streamlit run c:\\Users\\HP\\updated python project\\env\\Lib\\site-packages\\ipykernel_launcher.py [ARGUMENTS]\n",
      "2025-01-04 03:03:06.184 Thread 'MainThread': missing ScriptRunContext! This warning can be ignored when running in bare mode.\n",
      "2025-01-04 03:03:06.185 Thread 'MainThread': missing ScriptRunContext! This warning can be ignored when running in bare mode.\n",
      "2025-01-04 03:03:06.187 Thread 'MainThread': missing ScriptRunContext! This warning can be ignored when running in bare mode.\n",
      "2025-01-04 03:03:06.193 Thread 'MainThread': missing ScriptRunContext! This warning can be ignored when running in bare mode.\n",
      "2025-01-04 03:03:06.196 Thread 'MainThread': missing ScriptRunContext! This warning can be ignored when running in bare mode.\n",
      "2025-01-04 03:03:06.241 Thread 'MainThread': missing ScriptRunContext! This warning can be ignored when running in bare mode.\n",
      "2025-01-04 03:03:06.248 Thread 'MainThread': missing ScriptRunContext! This warning can be ignored when running in bare mode.\n",
      "2025-01-04 03:03:06.268 Thread 'MainThread': missing ScriptRunContext! This warning can be ignored when running in bare mode.\n"
     ]
    }
   ],
   "source": [
    "df = load_data()\n",
    "\n",
    "# Title of the app\n",
    "st.title('Air Crashes Overview')\n",
    "\n",
    "# Sidebar filters\n",
    "st.sidebar.header('Filter the data')\n",
    "\n",
    "# Filter by Year\n",
    "years = st.sidebar.multiselect('Select Year(s)', options=df['Year'].unique(), default=df['Year'])\n",
    "# Filter the dataframe based on the selected years\n",
    "filtered_df = df[df['Year'].isin(years)]"
   ]
  },
  {
   "cell_type": "code",
   "execution_count": 13,
   "id": "29437551",
   "metadata": {},
   "outputs": [
    {
     "name": "stderr",
     "output_type": "stream",
     "text": [
      "2025-01-04 03:03:06.310 Thread 'MainThread': missing ScriptRunContext! This warning can be ignored when running in bare mode.\n",
      "2025-01-04 03:03:06.312 Thread 'MainThread': missing ScriptRunContext! This warning can be ignored when running in bare mode.\n",
      "2025-01-04 03:03:06.433 Thread 'MainThread': missing ScriptRunContext! This warning can be ignored when running in bare mode.\n",
      "2025-01-04 03:03:07.183 Thread 'MainThread': missing ScriptRunContext! This warning can be ignored when running in bare mode.\n",
      "2025-01-04 03:03:07.184 Thread 'MainThread': missing ScriptRunContext! This warning can be ignored when running in bare mode.\n"
     ]
    },
    {
     "data": {
      "text/plain": [
       "DeltaGenerator()"
      ]
     },
     "execution_count": 13,
     "metadata": {},
     "output_type": "execute_result"
    }
   ],
   "source": [
    "#1 Top Aircraft Manufacturers by Number of Crashes\n",
    "\n",
    "st.header('Top Aircraft Manufacturers by Number of Crashes')\n",
    "Aircraft_Manufacturer = filtered_df['Aircraft Manufacturer'].value_counts().head(10)\n",
    "plt.figure(figsize=(10,6))\n",
    "plt.xlabel('Number of Crashes')\n",
    "plt.ylabel('Aircraft Manufacturer')\n",
    "plt.title('Top 10 Aircraft Manufacturers with the Highest Number of Crashes')\n",
    "plt.gca().invert_yaxis()\n",
    "\n",
    "st.pyplot(plt)"
   ]
  },
  {
   "cell_type": "code",
   "execution_count": 14,
   "id": "d5f0de56",
   "metadata": {},
   "outputs": [
    {
     "name": "stderr",
     "output_type": "stream",
     "text": [
      "2025-01-04 03:03:07.228 Thread 'MainThread': missing ScriptRunContext! This warning can be ignored when running in bare mode.\n",
      "2025-01-04 03:03:07.230 Thread 'MainThread': missing ScriptRunContext! This warning can be ignored when running in bare mode.\n",
      "2025-01-04 03:03:07.263 Thread 'MainThread': missing ScriptRunContext! This warning can be ignored when running in bare mode.\n",
      "2025-01-04 03:03:08.417 Thread 'MainThread': missing ScriptRunContext! This warning can be ignored when running in bare mode.\n",
      "2025-01-04 03:03:08.419 Thread 'MainThread': missing ScriptRunContext! This warning can be ignored when running in bare mode.\n"
     ]
    },
    {
     "data": {
      "text/plain": [
       "DeltaGenerator()"
      ]
     },
     "execution_count": 14,
     "metadata": {},
     "output_type": "execute_result"
    }
   ],
   "source": [
    "#2.Air Crash Trends Over the Years\n",
    "# Group by Year and count the number of crashes per year\n",
    "yearly_crash_count = df.groupby('Year').size().reset_index(name='Crash Count')\n",
    "\n",
    "st.header('Air Crash Trends Over the Years')\n",
    "plt.figure(figsize=(12,6))\n",
    "plt.plot(yearly_crash_count['Year'], yearly_crash_count['Crash Count'], color='blue', marker='o')\n",
    "plt.xlabel('Year')\n",
    "plt.ylabel('Number of Crashes')\n",
    "plt.title('Trend of Air Crashes Over the Years')\n",
    "plt.grid(True)\n",
    "\n",
    "st.pyplot(plt)"
   ]
  },
  {
   "cell_type": "code",
   "execution_count": 15,
   "id": "7f415443",
   "metadata": {},
   "outputs": [
    {
     "name": "stderr",
     "output_type": "stream",
     "text": [
      "2025-01-04 03:03:08.462 Thread 'MainThread': missing ScriptRunContext! This warning can be ignored when running in bare mode.\n",
      "2025-01-04 03:03:08.464 Thread 'MainThread': missing ScriptRunContext! This warning can be ignored when running in bare mode.\n",
      "2025-01-04 03:03:08.525 Thread 'MainThread': missing ScriptRunContext! This warning can be ignored when running in bare mode.\n"
     ]
    },
    {
     "name": "stderr",
     "output_type": "stream",
     "text": [
      "2025-01-04 03:03:09.359 Thread 'MainThread': missing ScriptRunContext! This warning can be ignored when running in bare mode.\n",
      "2025-01-04 03:03:09.361 Thread 'MainThread': missing ScriptRunContext! This warning can be ignored when running in bare mode.\n"
     ]
    },
    {
     "data": {
      "text/plain": [
       "DeltaGenerator()"
      ]
     },
     "execution_count": 15,
     "metadata": {},
     "output_type": "execute_result"
    }
   ],
   "source": [
    "#3 Countries/Regions with the Highest Number of Air Crash Fatalities\n",
    "\n",
    "fatalities_by_country = df.groupby('Country/Region')['Fatalities (air)'].sum().reset_index()\n",
    "top_10_countries_fatalities = fatalities_by_country.sort_values(by='Fatalities (air)', ascending=False).head(10)\n",
    "st.header('Countries/Regions with the Highest Number of Air Crash Fatalities')\n",
    "plt.figure(figsize=(10,6))\n",
    "plt.barh(top_10_countries_fatalities['Country/Region'], top_10_countries_fatalities['Fatalities (air)'], color='coral')\n",
    "plt.xlabel('Number of Fatalities')\n",
    "plt.ylabel('Country/Region')\n",
    "plt.title('Top 10 Countries/Regions with the Highest Number of Fatalities')\n",
    "plt.gca().invert_yaxis()\n",
    "\n",
    "st.pyplot(plt)"
   ]
  },
  {
   "cell_type": "code",
   "execution_count": 16,
   "id": "04cb770d",
   "metadata": {},
   "outputs": [
    {
     "name": "stderr",
     "output_type": "stream",
     "text": [
      "2025-01-04 03:03:09.403 Thread 'MainThread': missing ScriptRunContext! This warning can be ignored when running in bare mode.\n",
      "2025-01-04 03:03:09.406 Thread 'MainThread': missing ScriptRunContext! This warning can be ignored when running in bare mode.\n",
      "2025-01-04 03:03:09.447 Thread 'MainThread': missing ScriptRunContext! This warning can be ignored when running in bare mode.\n",
      "2025-01-04 03:03:09.881 Thread 'MainThread': missing ScriptRunContext! This warning can be ignored when running in bare mode.\n",
      "2025-01-04 03:03:09.882 Thread 'MainThread': missing ScriptRunContext! This warning can be ignored when running in bare mode.\n"
     ]
    },
    {
     "data": {
      "text/plain": [
       "DeltaGenerator()"
      ]
     },
     "execution_count": 16,
     "metadata": {},
     "output_type": "execute_result"
    }
   ],
   "source": [
    "#4. Air Crashes by Quarter of the Year\n",
    "\n",
    "crashes_by_quarter = df.groupby('Quarter').size().reset_index(name='Crash Count')\n",
    "st.header('Air Crashes by Quarter of the Year')\n",
    "plt.figure(figsize=(8,5))\n",
    "plt.bar(crashes_by_quarter['Quarter'], crashes_by_quarter['Crash Count'], color='lightgreen')\n",
    "plt.xlabel('Quarter')\n",
    "plt.ylabel('Number of Crashes')\n",
    "plt.title('Air Crashes by Quarter')\n",
    "\n",
    "st.pyplot(plt)"
   ]
  },
  {
   "cell_type": "code",
   "execution_count": 17,
   "id": "26724112",
   "metadata": {},
   "outputs": [
    {
     "name": "stderr",
     "output_type": "stream",
     "text": [
      "2025-01-04 03:03:09.920 Thread 'MainThread': missing ScriptRunContext! This warning can be ignored when running in bare mode.\n",
      "2025-01-04 03:03:09.923 Thread 'MainThread': missing ScriptRunContext! This warning can be ignored when running in bare mode.\n",
      "2025-01-04 03:03:09.960 Thread 'MainThread': missing ScriptRunContext! This warning can be ignored when running in bare mode.\n",
      "2025-01-04 03:03:10.828 Thread 'MainThread': missing ScriptRunContext! This warning can be ignored when running in bare mode.\n",
      "2025-01-04 03:03:10.829 Thread 'MainThread': missing ScriptRunContext! This warning can be ignored when running in bare mode.\n"
     ]
    },
    {
     "data": {
      "text/plain": [
       "DeltaGenerator()"
      ]
     },
     "execution_count": 17,
     "metadata": {},
     "output_type": "execute_result"
    }
   ],
   "source": [
    "#5. Relationship Between Number of People Aboard and Air Crash Fatalities\n",
    "\n",
    "st.header('Relationship Between Number of People Aboard and Air Crash Fatalities')\n",
    "plt.figure(figsize=(8,6))\n",
    "plt.scatter(df['Aboard'], df['Fatalities (air)'], color='purple', alpha=0.5)\n",
    "plt.xlabel('Number of People Aboard')\n",
    "plt.ylabel('Fatalities (air)')\n",
    "plt.title('Relationship Between People Aboard and Air Fatalities')\n",
    "plt.grid(True)\n",
    "\n",
    "st.pyplot(plt)"
   ]
  },
  {
   "cell_type": "code",
   "execution_count": null,
   "id": "4d8abc6d",
   "metadata": {},
   "outputs": [],
   "source": []
  }
 ],
 "metadata": {
  "kernelspec": {
   "display_name": "env",
   "language": "python",
   "name": "python3"
  },
  "language_info": {
   "codemirror_mode": {
    "name": "ipython",
    "version": 3
   },
   "file_extension": ".py",
   "mimetype": "text/x-python",
   "name": "python",
   "nbconvert_exporter": "python",
   "pygments_lexer": "ipython3",
   "version": "3.12.4"
  }
 },
 "nbformat": 4,
 "nbformat_minor": 5
}
